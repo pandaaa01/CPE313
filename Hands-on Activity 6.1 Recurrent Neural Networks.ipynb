{
 "cells": [
  {
   "cell_type": "markdown",
   "id": "fourth-lesbian",
   "metadata": {
    "id": "fourth-lesbian"
   },
   "source": [
    "# Activity 3.1 - Recurrent Neural Networks"
   ]
  },
  {
   "cell_type": "markdown",
   "id": "historical-import",
   "metadata": {
    "id": "historical-import"
   },
   "source": [
    "#### Objective(s):\n",
    "\n",
    "This activity aims to introduce how to build a recurrent neural network"
   ]
  },
  {
   "cell_type": "markdown",
   "id": "related-karma",
   "metadata": {
    "id": "related-karma"
   },
   "source": [
    "#### Intended Learning Outcomes (ILOs):\n",
    "* Demonstrate how to build and train neural recurrent neural network\n",
    "* Evaluate the score and accuracy of the recurrent neural network"
   ]
  },
  {
   "cell_type": "markdown",
   "id": "fossil-thermal",
   "metadata": {
    "id": "fossil-thermal"
   },
   "source": [
    "#### Resources:\n",
    "* Jupyter Notebook\n",
    "* IMDB"
   ]
  },
  {
   "cell_type": "markdown",
   "id": "australian-marketing",
   "metadata": {
    "id": "australian-marketing"
   },
   "source": [
    "#### Procedures\n",
    "Load the necessary libraries"
   ]
  },
  {
   "cell_type": "code",
   "execution_count": null,
   "id": "based-growing",
   "metadata": {
    "id": "based-growing"
   },
   "outputs": [],
   "source": [
    "from __future__ import print_function\n",
    "import keras\n",
    "from keras.preprocessing import sequence\n",
    "from keras.models import Sequential\n",
    "from keras.layers import Dense, Embedding\n",
    "from keras.layers import SimpleRNN\n",
    "from keras.datasets import imdb\n",
    "from keras import initializers"
   ]
  },
  {
   "cell_type": "markdown",
   "id": "romance-object",
   "metadata": {
    "id": "romance-object"
   },
   "source": [
    "* Set the max_features to 20000\n",
    "* Set the maximum length of a sequence\n",
    "* Use the batch size of 32"
   ]
  },
  {
   "cell_type": "code",
   "execution_count": null,
   "id": "pending-finance",
   "metadata": {
    "id": "pending-finance"
   },
   "outputs": [],
   "source": [
    "max_features = 20000\n",
    "maxlen = 30\n",
    "batch_size = 32"
   ]
  },
  {
   "cell_type": "markdown",
   "id": "juvenile-defensive",
   "metadata": {
    "id": "juvenile-defensive"
   },
   "source": [
    "Load the data"
   ]
  },
  {
   "cell_type": "code",
   "execution_count": null,
   "id": "familiar-escape",
   "metadata": {
    "colab": {
     "base_uri": "https://localhost:8080/"
    },
    "id": "familiar-escape",
    "outputId": "1c569b29-7e5e-41b1-827e-d309b759feaf"
   },
   "outputs": [
    {
     "name": "stdout",
     "output_type": "stream",
     "text": [
      "Downloading data from https://storage.googleapis.com/tensorflow/tf-keras-datasets/imdb.npz\n",
      "17464789/17464789 [==============================] - 0s 0us/step\n",
      "25000 train sequences\n",
      "25000 test sequences\n"
     ]
    }
   ],
   "source": [
    "\n",
    "(x_train, y_train), (x_test, y_test) = imdb.load_data(num_words=max_features)\n",
    "print(len(x_train), 'train sequences')\n",
    "print(len(x_test), 'test sequences')"
   ]
  },
  {
   "cell_type": "markdown",
   "id": "hairy-volleyball",
   "metadata": {
    "id": "hairy-volleyball"
   },
   "source": [
    " Truncates the sequences so that they are of the maximum length"
   ]
  },
  {
   "cell_type": "code",
   "execution_count": null,
   "id": "distant-praise",
   "metadata": {
    "colab": {
     "base_uri": "https://localhost:8080/"
    },
    "id": "distant-praise",
    "outputId": "911377a0-14fd-417b-bdf8-3d42ea6da3fe"
   },
   "outputs": [
    {
     "name": "stdout",
     "output_type": "stream",
     "text": [
      "x_train shape: (25000, 30)\n",
      "x_test shape: (25000, 30)\n"
     ]
    }
   ],
   "source": [
    "\n",
    "x_train = sequence.pad_sequences(x_train, maxlen=maxlen)\n",
    "x_test = sequence.pad_sequences(x_test, maxlen=maxlen)\n",
    "print('x_train shape:', x_train.shape)\n",
    "print('x_test shape:', x_test.shape)"
   ]
  },
  {
   "cell_type": "code",
   "execution_count": null,
   "id": "cloudy-elimination",
   "metadata": {
    "id": "cloudy-elimination"
   },
   "outputs": [],
   "source": [
    "# Check the example of sequence"
   ]
  },
  {
   "cell_type": "code",
   "execution_count": null,
   "id": "surprising-bacteria",
   "metadata": {
    "colab": {
     "base_uri": "https://localhost:8080/"
    },
    "id": "surprising-bacteria",
    "outputId": "1914142d-1bf7-4dd7-ac27-1e1135adce10"
   },
   "outputs": [
    {
     "data": {
      "text/plain": [
       "array([  219,   141,    35,   221,   956,    54,    13,    16,    11,\n",
       "        2714,    61,   322,   423,    12,    38,    76,    59,  1803,\n",
       "          72,     8, 10508,    23,     5,   967,    12,    38,    85,\n",
       "          62,   358,    99], dtype=int32)"
      ]
     },
     "execution_count": 6,
     "metadata": {},
     "output_type": "execute_result"
    }
   ],
   "source": [
    "x_train[123,:]"
   ]
  },
  {
   "cell_type": "markdown",
   "id": "quantitative-breath",
   "metadata": {
    "id": "quantitative-breath"
   },
   "source": [
    "Build a recurrent neural network"
   ]
  },
  {
   "cell_type": "code",
   "execution_count": null,
   "id": "closed-writer",
   "metadata": {
    "id": "closed-writer"
   },
   "outputs": [],
   "source": [
    "rnn_hidden_dim = 5\n",
    "word_embedding_dim = 50\n",
    "model_rnn = Sequential()\n",
    "model_rnn.add(Embedding(max_features, word_embedding_dim))  #This layer takes each integer in the sequence and embeds it in a 50-dimensional vector\n",
    "model_rnn.add(SimpleRNN(rnn_hidden_dim,\n",
    "                    kernel_initializer=initializers.RandomNormal(stddev=0.001),\n",
    "                    recurrent_initializer=initializers.Identity(gain=1.0),\n",
    "                    activation='relu',\n",
    "                    input_shape=x_train.shape[1:]))\n",
    "\n",
    "model_rnn.add(Dense(1, activation='sigmoid'))"
   ]
  },
  {
   "cell_type": "code",
   "execution_count": null,
   "id": "developmental-foster",
   "metadata": {
    "colab": {
     "base_uri": "https://localhost:8080/"
    },
    "id": "developmental-foster",
    "outputId": "f624528d-4652-414a-955c-be3b4dcaac22"
   },
   "outputs": [
    {
     "name": "stderr",
     "output_type": "stream",
     "text": [
      "WARNING:absl:`lr` is deprecated in Keras optimizer, please use `learning_rate` or use the legacy optimizer, e.g.,tf.keras.optimizers.legacy.RMSprop.\n"
     ]
    }
   ],
   "source": [
    "rmsprop = keras.optimizers.RMSprop(lr = .0001)\n",
    "\n",
    "model_rnn.compile(loss='binary_crossentropy',\n",
    "              optimizer=rmsprop,\n",
    "              metrics=['accuracy'])"
   ]
  },
  {
   "cell_type": "code",
   "execution_count": null,
   "id": "joined-athletics",
   "metadata": {
    "colab": {
     "base_uri": "https://localhost:8080/"
    },
    "id": "joined-athletics",
    "outputId": "8049eb80-9958-45fc-a277-19a6492015e3"
   },
   "outputs": [
    {
     "name": "stdout",
     "output_type": "stream",
     "text": [
      "Epoch 1/10\n",
      "782/782 [==============================] - 38s 44ms/step - loss: 0.6031 - accuracy: 0.6880 - val_loss: 0.5418 - val_accuracy: 0.7623\n",
      "Epoch 2/10\n",
      "782/782 [==============================] - 27s 34ms/step - loss: 0.4985 - accuracy: 0.7836 - val_loss: 0.5003 - val_accuracy: 0.7668\n",
      "Epoch 3/10\n",
      "782/782 [==============================] - 28s 36ms/step - loss: 0.4246 - accuracy: 0.8084 - val_loss: 0.4631 - val_accuracy: 0.7800\n",
      "Epoch 4/10\n",
      "782/782 [==============================] - 27s 34ms/step - loss: 0.3860 - accuracy: 0.8292 - val_loss: 0.4466 - val_accuracy: 0.7898\n",
      "Epoch 5/10\n",
      "782/782 [==============================] - 27s 35ms/step - loss: 0.3619 - accuracy: 0.8415 - val_loss: 0.4477 - val_accuracy: 0.7910\n",
      "Epoch 6/10\n",
      "782/782 [==============================] - 29s 37ms/step - loss: 0.3429 - accuracy: 0.8530 - val_loss: 0.4524 - val_accuracy: 0.7901\n",
      "Epoch 7/10\n",
      "782/782 [==============================] - 28s 36ms/step - loss: 0.3233 - accuracy: 0.8630 - val_loss: 0.4523 - val_accuracy: 0.7901\n",
      "Epoch 8/10\n",
      "782/782 [==============================] - 26s 34ms/step - loss: 0.3052 - accuracy: 0.8723 - val_loss: 0.4651 - val_accuracy: 0.7898\n",
      "Epoch 9/10\n",
      "782/782 [==============================] - 29s 37ms/step - loss: 0.2865 - accuracy: 0.8827 - val_loss: 0.4623 - val_accuracy: 0.7848\n",
      "Epoch 10/10\n",
      "782/782 [==============================] - 27s 35ms/step - loss: 0.2699 - accuracy: 0.8915 - val_loss: 0.4841 - val_accuracy: 0.7851\n"
     ]
    },
    {
     "data": {
      "text/plain": [
       "<keras.src.callbacks.History at 0x7dd13bf57df0>"
      ]
     },
     "execution_count": 10,
     "metadata": {},
     "output_type": "execute_result"
    }
   ],
   "source": [
    "model_rnn.fit(x_train, y_train,\n",
    "          batch_size=batch_size,\n",
    "          epochs=10,\n",
    "          validation_data=(x_test, y_test))"
   ]
  },
  {
   "cell_type": "markdown",
   "id": "freelance-proposal",
   "metadata": {
    "id": "freelance-proposal"
   },
   "source": [
    "Evaluate the model using the test set."
   ]
  },
  {
   "cell_type": "code",
   "execution_count": null,
   "id": "early-connecticut",
   "metadata": {
    "colab": {
     "base_uri": "https://localhost:8080/"
    },
    "id": "early-connecticut",
    "outputId": "76d016db-8132-451b-f671-8b0f00fdb775"
   },
   "outputs": [
    {
     "name": "stdout",
     "output_type": "stream",
     "text": [
      "782/782 [==============================] - 4s 5ms/step - loss: 0.4841 - accuracy: 0.7851\n",
      "Test score: 0.4840953052043915\n",
      "Test accuracy: 0.7850800156593323\n"
     ]
    }
   ],
   "source": [
    "score, acc = model_rnn.evaluate(x_test, y_test,\n",
    "                            batch_size=batch_size)\n",
    "print('Test score:', score)\n",
    "print('Test accuracy:', acc)"
   ]
  },
  {
   "cell_type": "markdown",
   "id": "miniature-generic",
   "metadata": {
    "id": "miniature-generic"
   },
   "source": [
    "Interpret the result"
   ]
  },
  {
   "cell_type": "markdown",
   "id": "marine-cotton",
   "metadata": {
    "id": "marine-cotton"
   },
   "source": [
    "***We can see here that the model is not performing that well on validations, It had only 78 percent accuracy and 0.48 loss***"
   ]
  },
  {
   "cell_type": "markdown",
   "id": "planned-detection",
   "metadata": {
    "id": "planned-detection"
   },
   "source": [
    "#### Supplementary Activity"
   ]
  },
  {
   "cell_type": "markdown",
   "id": "industrial-frequency",
   "metadata": {
    "id": "industrial-frequency"
   },
   "source": [
    "- Prepare the data to use sequences of length 80 rather than length 30.  Did it improve the performance?\n",
    "- Try different values of the \"max_features\".  Can you improve the performance?\n",
    "- Try smaller and larger sizes of the RNN hidden dimension.  How does it affect the model performance?  How does it affect the run time?"
   ]
  },
  {
   "cell_type": "code",
   "execution_count": null,
   "id": "important-delight",
   "metadata": {
    "colab": {
     "base_uri": "https://localhost:8080/"
    },
    "id": "important-delight",
    "outputId": "44fce142-c5f5-4761-da7c-1a3af366c0c5"
   },
   "outputs": [
    {
     "name": "stdout",
     "output_type": "stream",
     "text": [
      "25000 train sequences\n",
      "25000 test sequences\n"
     ]
    }
   ],
   "source": [
    "# Try different values of the \"max_features\".  Can you improve the performance?\n",
    "# We now have 25000 each for train and test sequences\n",
    "\n",
    "(x_train, y_train), (x_test, y_test) = imdb.load_data(num_words=50000)\n",
    "print(len(x_train), 'train sequences')\n",
    "print(len(x_test), 'test sequences')"
   ]
  },
  {
   "cell_type": "code",
   "execution_count": null,
   "id": "7JXlYvUAhf2s",
   "metadata": {
    "colab": {
     "base_uri": "https://localhost:8080/"
    },
    "id": "7JXlYvUAhf2s",
    "outputId": "09510e7a-1687-49cd-a310-45d00c272221"
   },
   "outputs": [
    {
     "name": "stdout",
     "output_type": "stream",
     "text": [
      "x_train shape: (25000, 80)\n",
      "x_test shape: (25000, 80)\n"
     ]
    }
   ],
   "source": [
    "# Prepare the data to use sequences of length 80 rather than length 30\n",
    "\n",
    "x_train = sequence.pad_sequences(x_train, maxlen=80)\n",
    "x_test = sequence.pad_sequences(x_test, maxlen=80)\n",
    "print('x_train shape:', x_train.shape)\n",
    "print('x_test shape:', x_test.shape)"
   ]
  },
  {
   "cell_type": "code",
   "execution_count": null,
   "id": "eXY_tKAAhtut",
   "metadata": {
    "id": "eXY_tKAAhtut"
   },
   "outputs": [],
   "source": [
    "# Try smaller and larger sizes of the RNN hidden dimension. Hidden dim is now 10 which is higher than the earlier 5\n",
    "\n",
    "rnn_hidden_dim = 10\n",
    "word_embedding_dim = 50\n",
    "model_rnn = Sequential()\n",
    "model_rnn.add(Embedding(max_features, word_embedding_dim))  #This layer takes each integer in the sequence and embeds it in a 50-dimensional vector\n",
    "model_rnn.add(SimpleRNN(rnn_hidden_dim,\n",
    "                    kernel_initializer=initializers.RandomNormal(stddev=0.001),\n",
    "                    recurrent_initializer=initializers.Identity(gain=1.0),\n",
    "                    activation='relu',\n",
    "                    input_shape=x_train.shape[1:]))\n",
    "\n",
    "model_rnn.add(Dense(1, activation='sigmoid'))"
   ]
  },
  {
   "cell_type": "code",
   "execution_count": null,
   "id": "Ox9CYrx3iQkS",
   "metadata": {
    "colab": {
     "base_uri": "https://localhost:8080/"
    },
    "id": "Ox9CYrx3iQkS",
    "outputId": "41e5cd9f-2a42-4d01-f79a-e212e728012f"
   },
   "outputs": [
    {
     "name": "stderr",
     "output_type": "stream",
     "text": [
      "WARNING:absl:`lr` is deprecated in Keras optimizer, please use `learning_rate` or use the legacy optimizer, e.g.,tf.keras.optimizers.legacy.RMSprop.\n"
     ]
    },
    {
     "name": "stdout",
     "output_type": "stream",
     "text": [
      "Epoch 1/10\n",
      "782/782 [==============================] - 78s 98ms/step - loss: 0.4757 - accuracy: 0.7620 - val_loss: 0.3677 - val_accuracy: 0.8360\n",
      "Epoch 2/10\n",
      "782/782 [==============================] - 66s 85ms/step - loss: 0.3240 - accuracy: 0.8594 - val_loss: 0.3630 - val_accuracy: 0.8387\n",
      "Epoch 3/10\n",
      "782/782 [==============================] - 66s 84ms/step - loss: 0.2804 - accuracy: 0.8834 - val_loss: 0.3558 - val_accuracy: 0.8452\n",
      "Epoch 4/10\n",
      "782/782 [==============================] - 65s 83ms/step - loss: 0.2518 - accuracy: 0.8982 - val_loss: 0.3632 - val_accuracy: 0.8410\n",
      "Epoch 5/10\n",
      "782/782 [==============================] - 61s 78ms/step - loss: 0.2283 - accuracy: 0.9101 - val_loss: 0.4201 - val_accuracy: 0.8200\n",
      "Epoch 6/10\n",
      "782/782 [==============================] - 61s 78ms/step - loss: 0.2083 - accuracy: 0.9190 - val_loss: 0.4008 - val_accuracy: 0.8368\n",
      "Epoch 7/10\n",
      "782/782 [==============================] - 64s 82ms/step - loss: 0.1899 - accuracy: 0.9284 - val_loss: 0.4531 - val_accuracy: 0.8230\n",
      "Epoch 8/10\n",
      "782/782 [==============================] - 61s 78ms/step - loss: 0.1732 - accuracy: 0.9353 - val_loss: 0.4559 - val_accuracy: 0.8327\n",
      "Epoch 9/10\n",
      "782/782 [==============================] - 64s 82ms/step - loss: 0.1600 - accuracy: 0.9415 - val_loss: 0.4312 - val_accuracy: 0.8238\n",
      "Epoch 10/10\n",
      "782/782 [==============================] - 60s 77ms/step - loss: 0.1479 - accuracy: 0.9467 - val_loss: 0.5173 - val_accuracy: 0.8240\n"
     ]
    },
    {
     "data": {
      "text/plain": [
       "<keras.src.callbacks.History at 0x7dd13c082e30>"
      ]
     },
     "execution_count": 20,
     "metadata": {},
     "output_type": "execute_result"
    }
   ],
   "source": [
    "rmsprop = keras.optimizers.RMSprop(lr = .0001)\n",
    "\n",
    "model_rnn.compile(loss='binary_crossentropy',\n",
    "              optimizer=rmsprop,\n",
    "              metrics=['accuracy'])\n",
    "\n",
    "model_rnn.fit(x_train, y_train,\n",
    "          batch_size=batch_size,\n",
    "          epochs=10,\n",
    "          validation_data=(x_test, y_test))"
   ]
  },
  {
   "cell_type": "code",
   "execution_count": null,
   "id": "w8WY16q6k0FC",
   "metadata": {
    "colab": {
     "base_uri": "https://localhost:8080/"
    },
    "id": "w8WY16q6k0FC",
    "outputId": "d3735ad8-2302-4857-dc45-cc1d4ebccfff"
   },
   "outputs": [
    {
     "name": "stdout",
     "output_type": "stream",
     "text": [
      "782/782 [==============================] - 7s 9ms/step - loss: 0.5173 - accuracy: 0.8240\n",
      "Test score: 0.5173365473747253\n",
      "Test accuracy: 0.8240000009536743\n"
     ]
    }
   ],
   "source": [
    "score, acc = model_rnn.evaluate(x_test, y_test,\n",
    "                            batch_size=batch_size)\n",
    "print('Test score:', score)\n",
    "print('Test accuracy:', acc)"
   ]
  },
  {
   "cell_type": "code",
   "execution_count": null,
   "id": "9aY7ZyallA-j",
   "metadata": {
    "id": "9aY7ZyallA-j"
   },
   "outputs": [],
   "source": [
    "# Try smaller and larger sizes of the RNN hidden dimension. Hidden dim is now 3 which is lower than the earlier 5\n",
    "\n",
    "rnn_hidden_dim = 3\n",
    "word_embedding_dim = 50\n",
    "model_rnn = Sequential()\n",
    "model_rnn.add(Embedding(max_features, word_embedding_dim))  #This layer takes each integer in the sequence and embeds it in a 50-dimensional vector\n",
    "model_rnn.add(SimpleRNN(rnn_hidden_dim,\n",
    "                    kernel_initializer=initializers.RandomNormal(stddev=0.001),\n",
    "                    recurrent_initializer=initializers.Identity(gain=1.0),\n",
    "                    activation='relu',\n",
    "                    input_shape=x_train.shape[1:]))\n",
    "\n",
    "model_rnn.add(Dense(1, activation='sigmoid'))"
   ]
  },
  {
   "cell_type": "code",
   "execution_count": null,
   "id": "mBsK07tclf2s",
   "metadata": {
    "colab": {
     "base_uri": "https://localhost:8080/"
    },
    "id": "mBsK07tclf2s",
    "outputId": "c0b89f4c-22d7-42dd-a3a8-79e332aa466e"
   },
   "outputs": [
    {
     "name": "stderr",
     "output_type": "stream",
     "text": [
      "WARNING:absl:`lr` is deprecated in Keras optimizer, please use `learning_rate` or use the legacy optimizer, e.g.,tf.keras.optimizers.legacy.RMSprop.\n"
     ]
    },
    {
     "name": "stdout",
     "output_type": "stream",
     "text": [
      "Epoch 1/10\n",
      "782/782 [==============================] - 73s 91ms/step - loss: 0.5811 - accuracy: 0.7118 - val_loss: 0.4227 - val_accuracy: 0.8064\n",
      "Epoch 2/10\n",
      "782/782 [==============================] - 65s 83ms/step - loss: 0.3545 - accuracy: 0.8456 - val_loss: 0.3712 - val_accuracy: 0.8355\n",
      "Epoch 3/10\n",
      "782/782 [==============================] - 61s 78ms/step - loss: 0.2948 - accuracy: 0.8758 - val_loss: 0.3645 - val_accuracy: 0.8370\n",
      "Epoch 4/10\n",
      "782/782 [==============================] - 65s 83ms/step - loss: 0.2637 - accuracy: 0.8916 - val_loss: 0.3735 - val_accuracy: 0.8368\n",
      "Epoch 5/10\n",
      "782/782 [==============================] - 64s 81ms/step - loss: 0.2419 - accuracy: 0.9020 - val_loss: 0.3854 - val_accuracy: 0.8361\n",
      "Epoch 6/10\n",
      "782/782 [==============================] - 61s 78ms/step - loss: 0.2230 - accuracy: 0.9116 - val_loss: 0.4129 - val_accuracy: 0.8296\n",
      "Epoch 7/10\n",
      "782/782 [==============================] - 60s 77ms/step - loss: 0.2067 - accuracy: 0.9209 - val_loss: 0.4039 - val_accuracy: 0.8390\n",
      "Epoch 8/10\n",
      "782/782 [==============================] - 60s 77ms/step - loss: 0.1955 - accuracy: 0.9249 - val_loss: 0.4272 - val_accuracy: 0.8300\n",
      "Epoch 9/10\n",
      "782/782 [==============================] - 59s 76ms/step - loss: 0.1833 - accuracy: 0.9322 - val_loss: 0.4279 - val_accuracy: 0.8334\n",
      "Epoch 10/10\n",
      "782/782 [==============================] - 61s 78ms/step - loss: 0.1725 - accuracy: 0.9364 - val_loss: 0.4542 - val_accuracy: 0.8324\n"
     ]
    },
    {
     "data": {
      "text/plain": [
       "<keras.src.callbacks.History at 0x7dd0a5b64c70>"
      ]
     },
     "execution_count": 23,
     "metadata": {},
     "output_type": "execute_result"
    }
   ],
   "source": [
    "rmsprop = keras.optimizers.RMSprop(lr = .0001)\n",
    "\n",
    "model_rnn.compile(loss='binary_crossentropy',\n",
    "              optimizer=rmsprop,\n",
    "              metrics=['accuracy'])\n",
    "\n",
    "model_rnn.fit(x_train, y_train,\n",
    "          batch_size=batch_size,\n",
    "          epochs=10,\n",
    "          validation_data=(x_test, y_test))"
   ]
  },
  {
   "cell_type": "code",
   "execution_count": null,
   "id": "758gDX8vnSlZ",
   "metadata": {
    "colab": {
     "base_uri": "https://localhost:8080/"
    },
    "id": "758gDX8vnSlZ",
    "outputId": "d45abffe-a23e-4de8-e257-d88d91b8fddc"
   },
   "outputs": [
    {
     "name": "stdout",
     "output_type": "stream",
     "text": [
      "782/782 [==============================] - 7s 9ms/step - loss: 0.4542 - accuracy: 0.8324\n",
      "Test score: 0.45418238639831543\n",
      "Test accuracy: 0.832360029220581\n"
     ]
    }
   ],
   "source": [
    "score, acc = model_rnn.evaluate(x_test, y_test,\n",
    "                            batch_size=batch_size)\n",
    "print('Test score:', score)\n",
    "print('Test accuracy:', acc)"
   ]
  },
  {
   "cell_type": "markdown",
   "id": "limiting-bachelor",
   "metadata": {
    "id": "limiting-bachelor"
   },
   "source": [
    "# Answers to Quesions"
   ]
  },
  {
   "cell_type": "markdown",
   "id": "_2CivYB_c93i",
   "metadata": {
    "id": "_2CivYB_c93i"
   },
   "source": [
    "**Prepare the data to use sequences of length 80 rather than length 30.  Did it improve the performance?** <br>\n",
    "*- Increasing the length improved the performance due to this providing more information the model could learn with.*\n",
    "\n",
    "**Try different values of the \"max_features\".  Can you improve the performance?** <br>\n",
    "*- Same with earlier explanation, providing more data inputs to learn and train on will lead the model to perform better.*\n",
    "\n",
    "\n",
    "**Try smaller and larger sizes of the RNN hidden dimension.  How does it affect the model performance?  How does it affect the run time?** <br>\n",
    "*- Increasing the RNN hidden dimension leads the model to increase its complexity and more parameters to train on. This did improve the model but increased the training time as well.*"
   ]
  },
  {
   "cell_type": "markdown",
   "id": "signal-federal",
   "metadata": {
    "id": "signal-federal"
   },
   "source": [
    "#### Conclusion"
   ]
  },
  {
   "cell_type": "markdown",
   "id": "kyIYRZlvjK2H",
   "metadata": {
    "id": "kyIYRZlvjK2H"
   },
   "source": [
    "***In completing the said activity, I was able to perform recurrent neural networks training. I was also able to understand the keras layer named SimpleRNN and its parameters. It consists of hidden dimmension and its initializer. Training RNN also requires specifying the length of data sequences used in improving its performance. Adding more hidden dimension also help improving the model accuracy in training but this requires more training time.***"
   ]
  },
  {
   "cell_type": "code",
   "execution_count": null,
   "id": "marine-wyoming",
   "metadata": {
    "id": "marine-wyoming"
   },
   "outputs": [],
   "source": []
  }
 ],
 "metadata": {
  "accelerator": "GPU",
  "colab": {
   "gpuType": "T4",
   "provenance": []
  },
  "kernelspec": {
   "display_name": "Python 3 (ipykernel)",
   "language": "python",
   "name": "python3"
  },
  "language_info": {
   "codemirror_mode": {
    "name": "ipython",
    "version": 3
   },
   "file_extension": ".py",
   "mimetype": "text/x-python",
   "name": "python",
   "nbconvert_exporter": "python",
   "pygments_lexer": "ipython3",
   "version": "3.11.5"
  }
 },
 "nbformat": 4,
 "nbformat_minor": 5
}
