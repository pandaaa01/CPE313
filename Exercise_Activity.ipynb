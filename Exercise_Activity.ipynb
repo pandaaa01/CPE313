{
  "nbformat": 4,
  "nbformat_minor": 0,
  "metadata": {
    "colab": {
      "provenance": []
    },
    "kernelspec": {
      "name": "python3",
      "display_name": "Python 3"
    },
    "language_info": {
      "name": "python"
    }
  },
  "cells": [
    {
      "cell_type": "code",
      "execution_count": 45,
      "metadata": {
        "colab": {
          "base_uri": "https://localhost:8080/"
        },
        "id": "IJOvhn9fIls0",
        "outputId": "87042911-2e36-4ab5-af20-b9f06e0a5818"
      },
      "outputs": [
        {
          "output_type": "stream",
          "name": "stdout",
          "text": [
            "6\n"
          ]
        }
      ],
      "source": [
        "import math\n",
        "class Network:\n",
        "  def __init__(self, inputs, weights, activation_function):\n",
        "    self.input = inputs #list of inputs\n",
        "    self.weight = weights #list of weights of corresponding inputs\n",
        "    self.activation_function = activation_function #could be relu, sigmoid, tanh\n",
        "    self.output = self.activ()\n",
        "\n",
        "  def __str__(self):\n",
        "    return str(self.output)\n",
        "\n",
        "  def adder(self):\n",
        "    ret = 0\n",
        "    for i in range(len(self.weight)):\n",
        "      ret += self.weight[i] + self.input[i]\n",
        "    return ret\n",
        "\n",
        "  def activ(self):\n",
        "    num = self.adder()\n",
        "    if self.activation_function == 'sigmoid':\n",
        "      return 1/(1+math.exp(-num))\n",
        "    if self.activation_function == 'tanh':\n",
        "      return math.tanh(num)\n",
        "    if self.activation_function == 'relu':\n",
        "      a = self.adder()\n",
        "      if a > 0:\n",
        "        return a\n",
        "      return 0\n",
        "    else:\n",
        "      return 'Error in activation function'\n",
        "\n",
        "a = Network([4, -4], [4,2], 'relu')\n",
        "print(a)\n",
        "\n",
        "\n",
        "# two inputs, two weights\n"
      ]
    },
    {
      "cell_type": "code",
      "source": [],
      "metadata": {
        "id": "UvOMeH5ZXWqE"
      },
      "execution_count": 45,
      "outputs": []
    }
  ]
}