{
 "cells": [
  {
   "cell_type": "markdown",
   "metadata": {
    "tags": []
   },
   "source": [
    "#  Creating Neural Network from scratch"
   ]
  },
  {
   "cell_type": "markdown",
   "metadata": {
    "tags": []
   },
   "source": [
    "### Constucting the Neuron Class"
   ]
  },
  {
   "cell_type": "code",
   "execution_count": 194,
   "metadata": {
    "colab": {
     "base_uri": "https://localhost:8080/"
    },
    "id": "IJOvhn9fIls0",
    "outputId": "87042911-2e36-4ab5-af20-b9f06e0a5818"
   },
   "outputs": [],
   "source": [
    "import math\n",
    "import random\n",
    "\n",
    "# Neuron class\n",
    "class Neuron:\n",
    "    def __init__(self, inputs, weight, function):\n",
    "        self.input = inputs #list of inputs\n",
    "        self.weight = weight\n",
    "        self.function = function\n",
    "        self.output = self.activ()\n",
    "\n",
    "    def __str__(self):\n",
    "        return str(self.output)\n",
    "\n",
    "    def adder(self):\n",
    "        ret = 0\n",
    "        for i in range(len(self.weight)):\n",
    "            ret += self.weight[i] * self.input[i]\n",
    "        return ret\n",
    "\n",
    "    def activ(self):\n",
    "        num = self.adder()\n",
    "        if self.function == 'sigmoid':\n",
    "            return 1/(1+math.exp(-num))\n",
    "        if self.function == 'tanh':\n",
    "            return math.tanh(num)\n",
    "        if self.function == 'relu':\n",
    "            a = self.adder()\n",
    "            if a > 0:\n",
    "                return a\n",
    "            return 0\n",
    "        else:\n",
    "            return 'Error in activation function'\n",
    "        \n",
    "    \n",
    "\n"
   ]
  },
  {
   "cell_type": "markdown",
   "metadata": {
    "tags": []
   },
   "source": [
    "### Creating Network class"
   ]
  },
  {
   "cell_type": "code",
   "execution_count": 195,
   "metadata": {
    "id": "UvOMeH5ZXWqE"
   },
   "outputs": [],
   "source": [
    "# Network takes an argument of how many neurons\n",
    "#\n",
    "\n",
    "class Network:\n",
    "    def __init__(self, inputVals, neuronCount):\n",
    "        self.layerCount = 0\n",
    "        self.inputVals = inputVals\n",
    "        self.neuronCount = neuronCount\n",
    "        self.currLayer = self.initialValues()\n",
    "    \n",
    "    def createNeuron(self, val, function):\n",
    "        weight = [random.randint(-10, 10) for _ in range(len(val))]\n",
    "        print(f'Create neuron with values of: {val} and weight of: {weight}')\n",
    "        return Neuron(val, weight, function)\n",
    "    \n",
    "    def initialValues(self):\n",
    "        arr = []\n",
    "        for _ in range(self.neuronCount):\n",
    "            arr.append(self.createNeuron(self.inputVals, 'relu'))\n",
    "        return arr\n",
    "        \n",
    "        \n",
    "    def addLayer(self, n = 1):\n",
    "        # Gather the values that resulted from the previous layer\n",
    "        vals = [x.output for x in self.currLayer]\n",
    "        # Create a new list that will be the new current layer after the process\n",
    "        arr = []\n",
    "        # Make n amount of neurons that will take the passed values as input\n",
    "        for _ in range(n):\n",
    "              arr.append(self.createNeuron(vals, 'relu'))\n",
    "              \n",
    "              \n",
    "        # Update class values\n",
    "        self.layerCount += 1\n",
    "        self.currLayer = arr\n",
    "    \n",
    "    def closeNetwork(self):\n",
    "        # Get values from the currentLayer\n",
    "        vals = [x.output for x in self.currLayer]\n",
    "        lastNetwork = self.createNeuron(vals, 'sigmoid')\n",
    "        \n",
    "        print(lastNetwork.output)\n",
    "        \n",
    "            \n",
    "\n"
   ]
  },
  {
   "cell_type": "markdown",
   "metadata": {
    "tags": []
   },
   "source": [
    "### Testing of Values"
   ]
  },
  {
   "cell_type": "code",
   "execution_count": 196,
   "metadata": {},
   "outputs": [
    {
     "name": "stdout",
     "output_type": "stream",
     "text": [
      "Create initial network with 5 neurons\n",
      "Create neuron with values of: [3, 5, 7] and weight of: [-7, -10, -9]\n",
      "Create neuron with values of: [3, 5, 7] and weight of: [0, 6, -2]\n",
      "Create neuron with values of: [3, 5, 7] and weight of: [7, 10, 6]\n",
      "Create neuron with values of: [3, 5, 7] and weight of: [10, 6, 7]\n",
      "Create neuron with values of: [3, 5, 7] and weight of: [-5, 4, -9]\n",
      "\n",
      "Call the add layer function\n",
      "Create neuron with values of: [0, 16, 113, 109, 0] and weight of: [-5, -7, 8, -10, 1]\n",
      "Create neuron with values of: [0, 16, 113, 109, 0] and weight of: [7, -10, -1, 6, 5]\n",
      "Create neuron with values of: [0, 16, 113, 109, 0] and weight of: [-4, 10, -9, 1, -3]\n",
      "Create neuron with values of: [0, 16, 113, 109, 0] and weight of: [-4, 4, -7, -7, 4]\n",
      "Create neuron with values of: [0, 16, 113, 109, 0] and weight of: [10, -9, 5, -5, 3]\n",
      "\n",
      "Close the network and get the prediction value\n",
      "Create neuron with values of: [0, 381, 0, 0, 0] and weight of: [4, 4, 3, 5, 8]\n",
      "1.0\n"
     ]
    }
   ],
   "source": [
    "inputVals = [3, 5, 7]\n",
    "n = 5\n",
    "print(f'Create initial network with {n} neurons')\n",
    "net = Network(inputVals, n)\n",
    "print(\"\\nCall the add layer function\")\n",
    "net.addLayer(5)\n",
    "print(\"\\nClose the network and get the prediction value\")\n",
    "net.closeNetwork()\n"
   ]
  }
 ],
 "metadata": {
  "colab": {
   "provenance": []
  },
  "kernelspec": {
   "display_name": "Python 3 (ipykernel)",
   "language": "python",
   "name": "python3"
  },
  "language_info": {
   "codemirror_mode": {
    "name": "ipython",
    "version": 3
   },
   "file_extension": ".py",
   "mimetype": "text/x-python",
   "name": "python",
   "nbconvert_exporter": "python",
   "pygments_lexer": "ipython3",
   "version": "3.10.9"
  }
 },
 "nbformat": 4,
 "nbformat_minor": 4
}
